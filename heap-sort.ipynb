{
 "cells": [
  {
   "cell_type": "markdown",
   "id": "086528ba",
   "metadata": {},
   "source": [
    "# Heap Sort - Jupuyter Notebook\n",
    "***"
   ]
  },
  {
   "cell_type": "markdown",
   "id": "7f56819a",
   "metadata": {},
   "source": [
    "Hello and welcome to my Heap Sort notebook, for the Graph Theory module.\n",
    "\n",
    "In this notebook, I will be explaing what Heap Sort is, why it's used. I will also be providing an implementation of the Heap Sort algorithm and why heap sort is far more effiecent than bubble sort in worse case scenario"
   ]
  },
  {
   "cell_type": "markdown",
   "id": "4234c43f",
   "metadata": {},
   "source": [
    "## What is the Heap Sort Algorithm?\n",
    "***\n",
    "\n",
    "In order for us to be able to discuss and fully understand what the Heap Sort algorithm is and what it's process contains, we must first understand what an algorithm is and why they are used.\n",
    "\n",
    "In computing, we use algorithms as steps to be followed during a process, they can be used be many different things, but most commonly used for problem solving.\n",
    "Now that we know what an algorithm is and it's uses, we can discuss the idea of the Heap Sort algorithm.\n",
    "\n",
    "The Heap Sort Algorithm is a sorting algorithm. We use Heap Sort for sorting lists of data, this is done by data comparison. The algorithm turns a list into a binary tree from highest value to lowest, this is whats known as a 'max heap'.\n",
    "It takes the highest value in the list, and places it at the top of the tree, it then sorts through the rest of the data, and the next two highest value nodes, take place as the first 'Children'. It uses indexs to locate the data and store it. \n",
    "\n",
    "The binary tree, like a real tree, contains roots, which are the children of the parent, In order for a parent to be a parent, it must contain atleast, a left child, and like mentioned, it cannot be a value higher than it's parent.\n",
    "\n",
    "Below is a sample diagram of a binary tree, in heap sort in comparision to a MIN heap:\n",
    " <img src=\"https://miro.medium.com/max/658/1*02r6G-ho8DPnfiaOIHA2OA.png\"></img>"
   ]
  },
  {
   "cell_type": "markdown",
   "id": "b960a2c9",
   "metadata": {},
   "source": [
    "## Rooted Binary Tree\n",
    "***\n",
    "\n",
    "A rooted binary tree, is a binary tree than can have at most 2 children per parent, the children of a parent can themselves be a parent with children rooting out beneath them.\n",
    "\n",
    "As we are just talking about a regular binary tree, and not a heap sorted tree, the requirement of the parent being larger than the children is non existant as, it's just a binary tree containg the list data, which has yet to have an algorithm applied to the nodes, allowing any data to be in any location until applied.\n",
    "\n",
    "However, as mentioned above, if we applied the heap sorting algorithm the data, would go from highest value down to the lowest, and vice versa if we used the min heap, it would go low to high.\n",
    "\n",
    "If we were to consider the tree nodes in index form, examine the diagram above, in particular the max heap side, the value 70 represents index 0 of the tree, and is the highest value of the list data, putting him as the top of the tree. The indexs are in a left to right pattern, meaning value 60 index 1, and 50 would be index 2. You then apply the same left to right pattern for the children and you get the index for all the nodes if needed."
   ]
  },
  {
   "cell_type": "markdown",
   "id": "d63e61eb",
   "metadata": {},
   "source": [
    "## How the Heap Sort Algorithm works\n",
    "***\n",
    "\n",
    "The algorithm, as mentioned, takes your created list, random or manual, puts them in order by comparing all data together, it finds which value is higher by simply doing some basic maths such as 70 > 60 and 50 < 60.\n",
    "\n",
    "It starts with the highest value, then moves onto it's children, and ofcourse, the parent is always going to be bigger than it's children, so once it finds the next 2 highest values, they become the first children of the top node. It continues comparing the remaining data, and makes the children of the first node into parents.\n",
    "\n",
    "Once the data is all sorted highest value to the lowest, the max heap is created and sorted in the way we wished"
   ]
  },
  {
   "cell_type": "markdown",
   "id": "16d7aa40",
   "metadata": {},
   "source": [
    "## Example of implementing the Heap Sort Algorithm\n",
    "***\n",
    "\n",
    "Now we are going to look at a Python way of implementing the heap sort algorithm and it actually in action doing the sorting of the values. It first will sort the data using the function heapsort(L) - L is the variable name of our list, and once it's done this, we move to the siftDown function, which goes through the data and sorts it into the max heap.\n",
    "\n",
    "The code you are seeing, comes from wikipedia and we refactored the pseudocode down in the Labs section of the module.\n",
    "https://en.wikipedia.org/wiki/Heapsort"
   ]
  },
  {
   "cell_type": "code",
   "execution_count": 5,
   "id": "9c96f9e1",
   "metadata": {},
   "outputs": [
    {
     "data": {
      "text/plain": [
       "[100, 3, 25, 19, 36, 7, 1, 17, 2]"
      ]
     },
     "execution_count": 5,
     "metadata": {},
     "output_type": "execute_result"
    }
   ],
   "source": [
    "# Create a list (manual data)\n",
    "L = [100, 3, 25, 19, 36, 7, 1, 17, 2]\n",
    "\n",
    "# Print list, notice it is unordered\n",
    "L"
   ]
  },
  {
   "cell_type": "code",
   "execution_count": 6,
   "id": "99f2c116",
   "metadata": {},
   "outputs": [],
   "source": [
    "# Define function for usage later\n",
    "def siftDown(L, parent, end):\n",
    "    \n",
    "    \"\"\"L[Parent:End+1] should almost be a max heap.\n",
    "    siftDown repairs it so that it is one\"\"\"\n",
    "\n",
    "    # Keep track of comparisons\n",
    "    no_comp = 0\n",
    "    \n",
    "    # While parent is actually a parent(has a left child atleast)\n",
    "    while 2*parent + 1 <= end:\n",
    "        # the index of the children of parent\n",
    "        lchild = 2 * parent + 1\n",
    "        rchild = 2 * parent + 2\n",
    "        \n",
    "        # Assume parents smaller than children\n",
    "        swap = parent\n",
    "        \n",
    "        # Check if parent is smaller than lChild\n",
    "        if L[swap] < L[lchild]:\n",
    "            # swap is set to index of lchild\n",
    "            swap = lchild\n",
    "            no_comp = no_comp + 1\n",
    "            \n",
    "        # Check if rchild exists + is smaller than L[swap]\n",
    "        if rchild <= end and L[swap] < L[rchild]:\n",
    "            # Then swap is set to index of rchild\n",
    "            swap = rchild\n",
    "            no_comp = no_comp + 1\n",
    "            \n",
    "        # We have a max heap if the parent is bigger    \n",
    "        if swap == parent:\n",
    "            break\n",
    "        else:\n",
    "            # swap parent w bigger child\n",
    "            L[parent], L[swap] = L[swap], L[parent]\n",
    "            # set parent to child index\n",
    "            parent = swap\n",
    "    # Retrun no comp\n",
    "    return no_comp"
   ]
  },
  {
   "cell_type": "code",
   "execution_count": 7,
   "id": "eaf7f3b0",
   "metadata": {},
   "outputs": [],
   "source": [
    "# Next we defined the heapsort function, which uses siftDown within.\n",
    "def heapsort(L):\n",
    "    \"\"\" Sorts the list L in-place using Heap Sort \"\"\"\n",
    "    # Keep track of no of comparisons\n",
    "    no_comp = 0\n",
    "    \n",
    "    # Turn L into a max heap(Bin Tree,every parent has 2 children, every parent is bigger than its children, BT starts w root)\n",
    "    # Index of last element\n",
    "    last_element = len(L) - 1\n",
    "    \n",
    "    #Find last parent\n",
    "    lastP = (last_element - 1) // 2\n",
    "\n",
    "    # Loop backwards through all parents, start at last p, go to you hit -1, in increments of -1\n",
    "    for parent in range(lastP, -1, -1):\n",
    "        # Sift down\n",
    "        no_comp = no_comp + siftDown(L, parent, last_element)    \n",
    "    \n",
    "    #Segregate the list L into 2 parts:\n",
    "    # 1. L[:end] is a max heap\n",
    "    # 2. Each element beyond end is greater than everything before it\n",
    "    \n",
    "    #While elements still in heap\n",
    "    for end in range(last_element, 0, -1):\n",
    "        # Swap element at index 0 to the end index\n",
    "        L[0], L[end] = L[end], L[0]\n",
    "        # fix heap - root out of place\n",
    "        no_comp = no_comp + siftDown(L, 0, end - 1)\n",
    "        \n",
    "    # return no of comparisons.\n",
    "    return no_comp"
   ]
  },
  {
   "cell_type": "code",
   "execution_count": 8,
   "id": "e97f0b2d",
   "metadata": {},
   "outputs": [
    {
     "data": {
      "text/plain": [
       "[1, 2, 3, 7, 17, 19, 25, 36, 100]"
      ]
     },
     "execution_count": 8,
     "metadata": {},
     "output_type": "execute_result"
    }
   ],
   "source": [
    "# List is still unordered, call the function to sort\n",
    "heapsort(L)\n",
    "\n",
    "# Output the List and now it is sorted\n",
    "L"
   ]
  },
  {
   "cell_type": "markdown",
   "id": "07f88258",
   "metadata": {},
   "source": [
    "\n",
    "## Why using Heap Sort is better than bubble sort in the worst case scenario?\n",
    "***"
   ]
  },
  {
   "cell_type": "markdown",
   "id": "96f28c5e",
   "metadata": {},
   "source": [
    "Bubble sort is blind to data that it already sorts, which can lead to the list being jumbled if you sort and go sorting again. It would require additional lines of coding and editing to achieve what Heap Sort does. It is also slower than Heapsort\n",
    "\n",
    "When thinking in Time-Complexity concepts, and particular the Big-O-Notation. Bubble sort is a reliable option at time complexity of $O(n)$ in best case scenario. As mentioned that is in the best possible case, there are many different things which can affect the speed and time complexity at which it runs, if we were to sort the whole array using bubble sort we would be getting a time complexity far worse than $O(n)$ we would be seeing a result of $O(n)^{2}$\n",
    "\n",
    "Where as, if you were to use Heap Sort, it has a consistent time compexity of $O(n log(n))$ all across the board, meaning this is also the best case, aswell as the worst case."
   ]
  }
 ],
 "metadata": {
  "kernelspec": {
   "display_name": "Python 3 (ipykernel)",
   "language": "python",
   "name": "python3"
  },
  "language_info": {
   "codemirror_mode": {
    "name": "ipython",
    "version": 3
   },
   "file_extension": ".py",
   "mimetype": "text/x-python",
   "name": "python",
   "nbconvert_exporter": "python",
   "pygments_lexer": "ipython3",
   "version": "3.9.12"
  }
 },
 "nbformat": 4,
 "nbformat_minor": 5
}
