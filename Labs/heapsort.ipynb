{
 "cells": [
  {
   "cell_type": "markdown",
   "id": "9846cfbf",
   "metadata": {},
   "source": [
    "# Heap Sort"
   ]
  },
  {
   "cell_type": "markdown",
   "id": "d2eb2ab5",
   "metadata": {},
   "source": [
    "## Lists in Python\n",
    "***"
   ]
  },
  {
   "cell_type": "code",
   "execution_count": 1,
   "id": "c72c364e",
   "metadata": {},
   "outputs": [],
   "source": [
    "# Lists in Python can be created with square bracket notation\n",
    "L = [1, 2, 3, \"Hello!\",None, True]"
   ]
  },
  {
   "cell_type": "code",
   "execution_count": 2,
   "id": "2e296b16",
   "metadata": {},
   "outputs": [
    {
     "data": {
      "text/plain": [
       "[1, 2, 3, 'Hello!', None, True]"
      ]
     },
     "execution_count": 2,
     "metadata": {},
     "output_type": "execute_result"
    }
   ],
   "source": [
    "# They are zero index as usual\n",
    "L"
   ]
  },
  {
   "cell_type": "code",
   "execution_count": 3,
   "id": "66481483",
   "metadata": {},
   "outputs": [
    {
     "data": {
      "text/plain": [
       "[1, 2, 3]"
      ]
     },
     "execution_count": 3,
     "metadata": {},
     "output_type": "execute_result"
    }
   ],
   "source": [
    "# You can create lists with list() function\n",
    "list({1,2,3,3})"
   ]
  },
  {
   "cell_type": "code",
   "execution_count": 4,
   "id": "2329af01",
   "metadata": {},
   "outputs": [
    {
     "data": {
      "text/plain": [
       "'Hello!'"
      ]
     },
     "execution_count": 4,
     "metadata": {},
     "output_type": "execute_result"
    }
   ],
   "source": [
    "# Using negative indexs\n",
    "L[-3]"
   ]
  },
  {
   "cell_type": "code",
   "execution_count": 5,
   "id": "b0e899dd",
   "metadata": {},
   "outputs": [
    {
     "data": {
      "text/plain": [
       "[0, 1, 2, 3, 4, 5, 6, 7, 8, 9, 10, 11, 12, 13, 14, 15, 16, 17, 18, 19]"
      ]
     },
     "execution_count": 5,
     "metadata": {},
     "output_type": "execute_result"
    }
   ],
   "source": [
    "# In-built functions for creating iterables\n",
    "L = list(range(20))\n",
    "L"
   ]
  },
  {
   "cell_type": "code",
   "execution_count": 6,
   "id": "794108d8",
   "metadata": {},
   "outputs": [
    {
     "data": {
      "text/plain": [
       "[1, 3, 5, 7, 9]"
      ]
     },
     "execution_count": 6,
     "metadata": {},
     "output_type": "execute_result"
    }
   ],
   "source": [
    "# List slicing\n",
    "L[1:10:2]"
   ]
  },
  {
   "cell_type": "code",
   "execution_count": 7,
   "id": "bb79a13e",
   "metadata": {},
   "outputs": [
    {
     "data": {
      "text/plain": [
       "[5, 6, 7, 8, 9]"
      ]
     },
     "execution_count": 7,
     "metadata": {},
     "output_type": "execute_result"
    }
   ],
   "source": [
    "# List slicing\n",
    "L[5:10]"
   ]
  },
  {
   "cell_type": "code",
   "execution_count": 8,
   "id": "e246c742",
   "metadata": {},
   "outputs": [
    {
     "data": {
      "text/plain": [
       "[5, 6, 7, 8, 9, 10, 11, 12, 13, 14, 15, 16, 17, 18, 19]"
      ]
     },
     "execution_count": 8,
     "metadata": {},
     "output_type": "execute_result"
    }
   ],
   "source": [
    "# List slicing\n",
    "L[5:]"
   ]
  },
  {
   "cell_type": "code",
   "execution_count": 9,
   "id": "407434e1",
   "metadata": {},
   "outputs": [
    {
     "data": {
      "text/plain": [
       "[0, 1, 2, 3, 4]"
      ]
     },
     "execution_count": 9,
     "metadata": {},
     "output_type": "execute_result"
    }
   ],
   "source": [
    "# List slicing\n",
    "L[:5]"
   ]
  },
  {
   "cell_type": "code",
   "execution_count": 10,
   "id": "7c0f2f27",
   "metadata": {},
   "outputs": [
    {
     "data": {
      "text/plain": [
       "[5, 6, 7, 8, 9, 10, 11, 12, 13, 14, 15, 16, 17, 18, 19, 0, 1, 2, 3, 4]"
      ]
     },
     "execution_count": 10,
     "metadata": {},
     "output_type": "execute_result"
    }
   ],
   "source": [
    "# Quick way to cycle list to the left\n",
    "I = 5\n",
    "L[I:] +L[:I]"
   ]
  },
  {
   "cell_type": "code",
   "execution_count": 11,
   "id": "5877fe9d",
   "metadata": {},
   "outputs": [],
   "source": [
    "# Tuples are immutable\n",
    "T = (1,2,3,4)"
   ]
  },
  {
   "cell_type": "code",
   "execution_count": 12,
   "id": "ccba854a",
   "metadata": {},
   "outputs": [
    {
     "data": {
      "text/plain": [
       "2"
      ]
     },
     "execution_count": 12,
     "metadata": {},
     "output_type": "execute_result"
    }
   ],
   "source": [
    "# Select elements\n",
    "T[1]"
   ]
  },
  {
   "cell_type": "code",
   "execution_count": 13,
   "id": "687fd5c4",
   "metadata": {},
   "outputs": [
    {
     "data": {
      "text/plain": [
       "(4,)"
      ]
     },
     "execution_count": 13,
     "metadata": {},
     "output_type": "execute_result"
    }
   ],
   "source": [
    "# Slice\n",
    "T[3:]"
   ]
  },
  {
   "cell_type": "code",
   "execution_count": 14,
   "id": "ad990561",
   "metadata": {},
   "outputs": [],
   "source": [
    "# Can't assign values - gives an error\n",
    "# T[2] = 100"
   ]
  },
  {
   "cell_type": "code",
   "execution_count": 15,
   "id": "229968a0",
   "metadata": {},
   "outputs": [
    {
     "data": {
      "text/plain": [
       "(1, 2, 3, 4)"
      ]
     },
     "execution_count": 15,
     "metadata": {},
     "output_type": "execute_result"
    }
   ],
   "source": [
    "# Tuples are created with comas. Opposed to round brackets\n",
    "T = 1, 2, 3, 4\n",
    "T"
   ]
  },
  {
   "cell_type": "code",
   "execution_count": 16,
   "id": "f5a9378f",
   "metadata": {},
   "outputs": [
    {
     "data": {
      "text/plain": [
       "590899387183067792"
      ]
     },
     "execution_count": 16,
     "metadata": {},
     "output_type": "execute_result"
    }
   ],
   "source": [
    "hash(T)"
   ]
  },
  {
   "cell_type": "code",
   "execution_count": 17,
   "id": "37995698",
   "metadata": {},
   "outputs": [],
   "source": [
    "# You can use tupes for assignment\n",
    "a, b = 3,4"
   ]
  },
  {
   "cell_type": "code",
   "execution_count": 18,
   "id": "2235d5c3",
   "metadata": {},
   "outputs": [
    {
     "data": {
      "text/plain": [
       "3"
      ]
     },
     "execution_count": 18,
     "metadata": {},
     "output_type": "execute_result"
    }
   ],
   "source": [
    "a"
   ]
  },
  {
   "cell_type": "code",
   "execution_count": 19,
   "id": "b1d08ba8",
   "metadata": {},
   "outputs": [
    {
     "data": {
      "text/plain": [
       "4"
      ]
     },
     "execution_count": 19,
     "metadata": {},
     "output_type": "execute_result"
    }
   ],
   "source": [
    "b"
   ]
  },
  {
   "cell_type": "code",
   "execution_count": 20,
   "id": "1566bb80",
   "metadata": {},
   "outputs": [],
   "source": [
    "# Handy way of swapping 2 values\n",
    "a,b = b,a"
   ]
  },
  {
   "cell_type": "code",
   "execution_count": 21,
   "id": "4b985631",
   "metadata": {},
   "outputs": [
    {
     "data": {
      "text/plain": [
       "4"
      ]
     },
     "execution_count": 21,
     "metadata": {},
     "output_type": "execute_result"
    }
   ],
   "source": [
    "a"
   ]
  },
  {
   "cell_type": "code",
   "execution_count": 22,
   "id": "d72cd693",
   "metadata": {},
   "outputs": [
    {
     "data": {
      "text/plain": [
       "[0, 1, 2, 3, 4, 5, 6, 7, 8, 9]"
      ]
     },
     "execution_count": 22,
     "metadata": {},
     "output_type": "execute_result"
    }
   ],
   "source": [
    "# List of integers\n",
    "L = list(range(10))\n",
    "L"
   ]
  },
  {
   "cell_type": "code",
   "execution_count": 23,
   "id": "06b2dc0f",
   "metadata": {},
   "outputs": [
    {
     "data": {
      "text/plain": [
       "[0, 8, 64, 216, 512]"
      ]
     },
     "execution_count": 23,
     "metadata": {},
     "output_type": "execute_result"
    }
   ],
   "source": [
    "# List Comprehension\n",
    "[i**3 for i in L if i % 2 == 0]"
   ]
  },
  {
   "cell_type": "code",
   "execution_count": 24,
   "id": "fbd88e2e",
   "metadata": {},
   "outputs": [
    {
     "data": {
      "text/plain": [
       "[9, 8, 7, 6, 5, 4, 3, 2, 1, 0]"
      ]
     },
     "execution_count": 24,
     "metadata": {},
     "output_type": "execute_result"
    }
   ],
   "source": [
    "# Curve ball\n",
    "L[::-1]"
   ]
  },
  {
   "cell_type": "markdown",
   "id": "41217d98",
   "metadata": {},
   "source": [
    "<br>\n",
    "\n",
    "## Bubble sort"
   ]
  },
  {
   "cell_type": "code",
   "execution_count": 25,
   "id": "e9c59b1e",
   "metadata": {},
   "outputs": [],
   "source": [
    "# Import a module from standard library\n",
    "import random"
   ]
  },
  {
   "cell_type": "code",
   "execution_count": 26,
   "id": "8a52d0b9",
   "metadata": {},
   "outputs": [
    {
     "data": {
      "text/plain": [
       "[1, 2, 3, 4, 5, 6, 7, 8, 9, 10]"
      ]
     },
     "execution_count": 26,
     "metadata": {},
     "output_type": "execute_result"
    }
   ],
   "source": [
    "# Create list of ints\n",
    "L = list(range(1,11))\n",
    "L"
   ]
  },
  {
   "cell_type": "code",
   "execution_count": 27,
   "id": "d02664be",
   "metadata": {},
   "outputs": [],
   "source": [
    "# Shuffle\n",
    "random.shuffle(L)"
   ]
  },
  {
   "cell_type": "code",
   "execution_count": 28,
   "id": "8ed50fe4",
   "metadata": {},
   "outputs": [
    {
     "data": {
      "text/plain": [
       "[5, 7, 3, 2, 9, 1, 10, 6, 4, 8]"
      ]
     },
     "execution_count": 28,
     "metadata": {},
     "output_type": "execute_result"
    }
   ],
   "source": [
    "# List is shuffled\n",
    "L"
   ]
  },
  {
   "cell_type": "code",
   "execution_count": 29,
   "id": "95ac5018",
   "metadata": {},
   "outputs": [],
   "source": [
    "# Bubble sort\n",
    "\n",
    "# Keep track of no of comparisons\n",
    "no_comparisons = 0\n",
    "\n",
    "# Bubble every (biggest) element up\n",
    "for j in range(len(L) - 1):\n",
    "    # keep track of any swaps\n",
    "    swapped = False\n",
    "    # compare all elements side by side\n",
    "    for i in range(len(L) - 1):\n",
    "        # Compare the ith element with the ith + 1\n",
    "        if L[i] > L[i+1]:\n",
    "            # swap elements\n",
    "            L[i], L[i+1] = L[i+1], L[i]\n",
    "            # Track swap\n",
    "            swapped = True\n",
    "        # Add comparison\n",
    "        no_comparisons = no_comparisons + 1\n",
    "    #Quit if no swaps\n",
    "    if not swapped:\n",
    "        break"
   ]
  },
  {
   "cell_type": "code",
   "execution_count": 30,
   "id": "0ada4cb2",
   "metadata": {},
   "outputs": [
    {
     "data": {
      "text/plain": [
       "[1, 2, 3, 4, 5, 6, 7, 8, 9, 10]"
      ]
     },
     "execution_count": 30,
     "metadata": {},
     "output_type": "execute_result"
    }
   ],
   "source": [
    "L"
   ]
  },
  {
   "cell_type": "code",
   "execution_count": 31,
   "id": "20d7c05a",
   "metadata": {},
   "outputs": [
    {
     "data": {
      "text/plain": [
       "54"
      ]
     },
     "execution_count": 31,
     "metadata": {},
     "output_type": "execute_result"
    }
   ],
   "source": [
    "no_comparisons"
   ]
  },
  {
   "cell_type": "code",
   "execution_count": 32,
   "id": "5cf6cc36",
   "metadata": {},
   "outputs": [
    {
     "data": {
      "text/plain": [
       "False"
      ]
     },
     "execution_count": 32,
     "metadata": {},
     "output_type": "execute_result"
    }
   ],
   "source": [
    "swapped"
   ]
  },
  {
   "cell_type": "code",
   "execution_count": 33,
   "id": "1f1b7efd",
   "metadata": {},
   "outputs": [],
   "source": [
    "# Bubble sort as a function\n",
    "\n",
    "def bub_sort(L):\n",
    "\n",
    "    # Keep track of no of comparisons\n",
    "    no_comparisons = 0\n",
    "\n",
    "    # Bubble every (biggest) element up\n",
    "    for j in range(len(L) - 1):\n",
    "        # keep track of any swaps\n",
    "        swapped = False\n",
    "        # compare all elements side by side\n",
    "        for i in range(len(L) - 1 - j):\n",
    "            # Compare the ith element with the ith + 1\n",
    "            if L[i] > L[i+1]:\n",
    "                # swap elements\n",
    "                L[i], L[i+1] = L[i+1], L[i]\n",
    "                # Track swap\n",
    "                swapped = True\n",
    "            # Add comparison\n",
    "            no_comparisons = no_comparisons + 1\n",
    "        #Quit if no swaps\n",
    "        if not swapped:\n",
    "            break\n",
    "    #return num comparisions made\n",
    "    return no_comparisons"
   ]
  },
  {
   "cell_type": "code",
   "execution_count": 34,
   "id": "f1bceb4c",
   "metadata": {},
   "outputs": [
    {
     "data": {
      "text/plain": [
       "[8, 5, 3, 4, 7, 9, 1, 10, 6, 2]"
      ]
     },
     "execution_count": 34,
     "metadata": {},
     "output_type": "execute_result"
    }
   ],
   "source": [
    "# Create list\n",
    "L = list(range(1,11))\n",
    "\n",
    "#shuffle\n",
    "random.shuffle(L)\n",
    "\n",
    "L"
   ]
  },
  {
   "cell_type": "code",
   "execution_count": 35,
   "id": "07d2a164",
   "metadata": {},
   "outputs": [
    {
     "data": {
      "text/plain": [
       "45"
      ]
     },
     "execution_count": 35,
     "metadata": {},
     "output_type": "execute_result"
    }
   ],
   "source": [
    "bub_sort(L)"
   ]
  },
  {
   "cell_type": "code",
   "execution_count": 36,
   "id": "4d16ac7f",
   "metadata": {},
   "outputs": [
    {
     "data": {
      "text/plain": [
       "[1, 2, 3, 4, 5, 6, 7, 8, 9, 10]"
      ]
     },
     "execution_count": 36,
     "metadata": {},
     "output_type": "execute_result"
    }
   ],
   "source": [
    "L"
   ]
  },
  {
   "cell_type": "code",
   "execution_count": 37,
   "id": "0c67a71f",
   "metadata": {},
   "outputs": [
    {
     "data": {
      "text/plain": [
       "9"
      ]
     },
     "execution_count": 37,
     "metadata": {},
     "output_type": "execute_result"
    }
   ],
   "source": [
    "# Once sorted - bubble sort is O(n)\n",
    "bub_sort(L)"
   ]
  },
  {
   "cell_type": "code",
   "execution_count": 38,
   "id": "80d7a834",
   "metadata": {},
   "outputs": [
    {
     "data": {
      "text/plain": [
       "[10, 9, 8, 7, 6, 5, 4, 3, 2, 1]"
      ]
     },
     "execution_count": 38,
     "metadata": {},
     "output_type": "execute_result"
    }
   ],
   "source": [
    "# WORST CASE FOR BUBBLE SORT\n",
    "L[::-1]"
   ]
  },
  {
   "cell_type": "code",
   "execution_count": 39,
   "id": "145641a4",
   "metadata": {},
   "outputs": [
    {
     "data": {
      "text/plain": [
       "45"
      ]
     },
     "execution_count": 39,
     "metadata": {},
     "output_type": "execute_result"
    }
   ],
   "source": [
    "# Still O(n^2)\n",
    "bub_sort(L[::-1])"
   ]
  },
  {
   "cell_type": "code",
   "execution_count": 40,
   "id": "4963ac94",
   "metadata": {},
   "outputs": [
    {
     "data": {
      "text/plain": [
       "45"
      ]
     },
     "execution_count": 40,
     "metadata": {},
     "output_type": "execute_result"
    }
   ],
   "source": [
    "sum(range(10))"
   ]
  },
  {
   "cell_type": "markdown",
   "id": "31fdef7d",
   "metadata": {},
   "source": [
    "***\n",
    "## Heap Sort"
   ]
  },
  {
   "cell_type": "markdown",
   "id": "2993f351",
   "metadata": {},
   "source": [
    "### Refactored From Wikipedia"
   ]
  },
  {
   "cell_type": "markdown",
   "id": "9dfb5c5f",
   "metadata": {},
   "source": [
    "<img src=\"https://upload.wikimedia.org/wikipedia/commons/thumb/c/c4/Max-Heap-new.svg/440px-Max-Heap-new.svg.png\"></img>"
   ]
  },
  {
   "cell_type": "code",
   "execution_count": 4,
   "id": "4bf4e7b2",
   "metadata": {},
   "outputs": [],
   "source": [
    "def siftDown(L, parent, end):\n",
    "    \n",
    "    \"\"\"L[Parent:End+1] should almost be a max heap.\n",
    "    siftDown repairs it so that it is one\"\"\"\n",
    "\n",
    "    # While parent is actually a parent(has a left child atleast)\n",
    "    while 2*parent + 1 <= end:\n",
    "        # the index of the children of parent\n",
    "        lchild = 2 * parent + 1\n",
    "        rchild = 2 * parent + 2\n",
    "        \n",
    "        # Assume parents smaller than children\n",
    "        swap = parent\n",
    "        \n",
    "        # Check if parent is smaller than lChild\n",
    "        if L[swap] < L[lchild]:\n",
    "            # swap is set to index of lchild\n",
    "            swap = lchild\n",
    "            \n",
    "        # Check if rchild exists + is smaller than L[swap]\n",
    "        if rchild + 1 <= end and L[swap] < L[rchild]:\n",
    "            # Then swap is set to index of rchild\n",
    "            swap = rchild\n",
    "            \n",
    "        # We have a max heap if the parent is bigger    \n",
    "        if swap == parent:\n",
    "            return\n",
    "        else:\n",
    "            # swap parent w bigger child\n",
    "            L[parent], L[swap] = L[swap], L[parent]\n",
    "            # set parent to child index\n",
    "            parent = swap"
   ]
  },
  {
   "cell_type": "code",
   "execution_count": 5,
   "id": "0b69a233",
   "metadata": {},
   "outputs": [],
   "source": [
    "def heapsort(L):\n",
    "    \"\"\" Sorts the list L in-place using Heap Sort \"\"\"\n",
    "    \n",
    "    # Turn L into a max heap(Bin Tree,every parent has 2 children, every parent is bigger than its children, BT starts w root)\n",
    "    # Index of last element\n",
    "    last_element = len(L) - 1\n",
    "    \n",
    "    #Find last parent\n",
    "    lastP = (last_element - 1) // 2\n",
    "\n",
    "    # Loop backwards through all parents, start at last p, go to you hit -1, in increments of -1\n",
    "    for parent in range(lastP, -1, -1):\n",
    "        # Sift down\n",
    "        siftDown(L, parent, last_element)    \n",
    "    \n",
    "    #Segregate the list L into 2 parts:\n",
    "    # 1. L[:end] is a max heap\n",
    "    # 2. Each element beyond end is greater than everything before it\n",
    "    \n",
    "    #While elements still in heap\n",
    "    for end in range(last_element, 0, -1):\n",
    "        # Swap element at index 0 to the end index\n",
    "        L[0], L[end] = L[end], L[0]\n",
    "        # fix heap - root out of place\n",
    "        siftDown(L, 0, end - 1)"
   ]
  },
  {
   "cell_type": "code",
   "execution_count": 6,
   "id": "c0d31a00",
   "metadata": {},
   "outputs": [
    {
     "data": {
      "text/plain": [
       "3"
      ]
     },
     "execution_count": 6,
     "metadata": {},
     "output_type": "execute_result"
    }
   ],
   "source": [
    "6 // 2"
   ]
  },
  {
   "cell_type": "code",
   "execution_count": null,
   "id": "e4c17af7",
   "metadata": {},
   "outputs": [],
   "source": [
    "# Create list\n",
    "L = list(range(1,11))\n",
    "\n",
    "#shuffle\n",
    "random.shuffle(L)\n",
    "\n",
    "L"
   ]
  },
  {
   "cell_type": "code",
   "execution_count": 8,
   "id": "b2e8dc75",
   "metadata": {},
   "outputs": [],
   "source": [
    "end = len(L)-1"
   ]
  },
  {
   "cell_type": "code",
   "execution_count": 9,
   "id": "e735b368",
   "metadata": {},
   "outputs": [
    {
     "data": {
      "text/plain": [
       "[1, 3, 2, 4, 5, 6, 7, 8, 9, 10]"
      ]
     },
     "execution_count": 9,
     "metadata": {},
     "output_type": "execute_result"
    }
   ],
   "source": [
    "heapsort(L)\n",
    "L"
   ]
  },
  {
   "cell_type": "code",
   "execution_count": 10,
   "id": "28aea1b7",
   "metadata": {},
   "outputs": [
    {
     "name": "stdout",
     "output_type": "stream",
     "text": [
      "(0, 1, 2), -> [0, 2, 1]\n",
      "(0, 2, 1), -> [0, 1, 2]\n",
      "(1, 0, 2), -> [0, 2, 1]\n",
      "(1, 2, 0), -> [0, 1, 2]\n",
      "(2, 0, 1), -> [0, 1, 2]\n",
      "(2, 1, 0), -> [0, 1, 2]\n"
     ]
    }
   ],
   "source": [
    "import itertools\n",
    "\n",
    "for perm in itertools.permutations(range(3)):\n",
    "    L = list(perm)\n",
    "    heapsort(L)\n",
    "    print(f'{perm}, -> {L}')"
   ]
  },
  {
   "cell_type": "markdown",
   "id": "105c9eec",
   "metadata": {},
   "source": [
    "***\n",
    "## Extras"
   ]
  },
  {
   "cell_type": "code",
   "execution_count": 1,
   "id": "6842d03e",
   "metadata": {},
   "outputs": [
    {
     "name": "stdout",
     "output_type": "stream",
     "text": [
      "1\n"
     ]
    }
   ],
   "source": [
    "# ints passed by value\n",
    "\n",
    "# var a set to 1\n",
    "a = 1\n",
    "\n",
    "# function b is a value\n",
    "def change(b):\n",
    "    # change value\n",
    "    b = 2\n",
    "\n",
    "# a is passed a value\n",
    "change(a)\n",
    "\n",
    "print(a)\n",
    "# a doesn't change"
   ]
  },
  {
   "cell_type": "code",
   "execution_count": 3,
   "id": "d09e0ace",
   "metadata": {},
   "outputs": [
    {
     "name": "stdout",
     "output_type": "stream",
     "text": [
      "[1, 2, 100, 4]\n"
     ]
    }
   ],
   "source": [
    "# lists passed in by referencing them\n",
    "\n",
    "a = [1,2,3,4]\n",
    "\n",
    " # function is a reference\n",
    "def change(b):\n",
    "    # change an element\n",
    "    b[2] = 100\n",
    "    \n",
    "# pass a to change\n",
    "change(a)\n",
    "\n",
    "print(a)\n",
    "# A changes now"
   ]
  },
  {
   "cell_type": "code",
   "execution_count": null,
   "id": "a7f7bf1c",
   "metadata": {},
   "outputs": [],
   "source": []
  }
 ],
 "metadata": {
  "kernelspec": {
   "display_name": "Python 3 (ipykernel)",
   "language": "python",
   "name": "python3"
  },
  "language_info": {
   "codemirror_mode": {
    "name": "ipython",
    "version": 3
   },
   "file_extension": ".py",
   "mimetype": "text/x-python",
   "name": "python",
   "nbconvert_exporter": "python",
   "pygments_lexer": "ipython3",
   "version": "3.9.12"
  }
 },
 "nbformat": 4,
 "nbformat_minor": 5
}
